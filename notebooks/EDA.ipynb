# Import necessary libraries
import pandas as pd
import numpy as np
import seaborn as sns
import matplotlib.pyplot as plt

# Load the dataset
data = pd.read_csv('../data/ames_housing.csv')

# Display the first few rows of the dataset
data.head()

# Basic data overview
data.info()
missing_values = data.isnull().sum()
missing_values = missing_values[missing_values > 0].sort_values(ascending=False)
print("Columns with missing values:\n", missing_values)

# Distribution of the target variable 'SalePrice'
plt.figure(figsize=(10, 6))
sns.histplot(data['SalePrice'], kde=True)
plt.title('Distribution of SalePrice')
plt.xlabel('SalePrice')
plt.ylabel('Frequency')
plt.show()

# Correlation analysis
correlations = data.corr()
correlations['SalePrice'].sort_values(ascending=False).head(10)

# Heatmap of top correlated features with SalePrice
top_corr_features = correlations.index[abs(correlations["SalePrice"]) > 0.5]
plt.figure(figsize=(12, 8))
sns.heatmap(data[top_corr_features].corr(), annot=True, cmap="coolwarm")
plt.title("Heatmap of Top Correlated Features with SalePrice")
plt.show()

# Scatter plot of GrLivArea vs SalePrice
plt.figure(figsize=(10, 6))
sns.scatterplot(data=data, x='GrLivArea', y='SalePrice')
plt.title("Living Area (GrLivArea) vs SalePrice")
plt.xlabel("GrLivArea")
plt.ylabel("SalePrice")
plt.show()

# Boxplot of OverallQual vs SalePrice
plt.figure(figsize=(10, 6))
sns.boxplot(data=data, x='OverallQual', y='SalePrice')
plt.title("Overall Quality (OverallQual) vs SalePrice")
plt.xlabel("OverallQual")
plt.ylabel("SalePrice")
plt.show()
